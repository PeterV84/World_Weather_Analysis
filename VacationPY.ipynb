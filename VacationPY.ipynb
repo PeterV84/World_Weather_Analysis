{
 "cells": [
  {
   "cell_type": "code",
   "execution_count": 1,
   "id": "2c4c0475",
   "metadata": {},
   "outputs": [],
   "source": [
    "# Import the dependencies.\n",
    "import pandas as pd\n",
    "import gmaps\n",
    "import requests\n",
    "# Import the API key.\n",
    "%matplotlib inline\n",
    "from configure import google_API_Key\n"
   ]
  },
  {
   "cell_type": "code",
   "execution_count": 2,
   "id": "c684a421",
   "metadata": {},
   "outputs": [],
   "source": [
    "import gmaps"
   ]
  },
  {
   "cell_type": "code",
   "execution_count": 3,
   "id": "eac634e2",
   "metadata": {},
   "outputs": [
    {
     "data": {
      "text/html": [
       "<div>\n",
       "<style scoped>\n",
       "    .dataframe tbody tr th:only-of-type {\n",
       "        vertical-align: middle;\n",
       "    }\n",
       "\n",
       "    .dataframe tbody tr th {\n",
       "        vertical-align: top;\n",
       "    }\n",
       "\n",
       "    .dataframe thead th {\n",
       "        text-align: right;\n",
       "    }\n",
       "</style>\n",
       "<table border=\"1\" class=\"dataframe\">\n",
       "  <thead>\n",
       "    <tr style=\"text-align: right;\">\n",
       "      <th></th>\n",
       "      <th>City_ID</th>\n",
       "      <th>City</th>\n",
       "      <th>Country</th>\n",
       "      <th>Date</th>\n",
       "      <th>Lat</th>\n",
       "      <th>Lng</th>\n",
       "      <th>Max Temp</th>\n",
       "      <th>Humidity</th>\n",
       "      <th>Cloudiness</th>\n",
       "      <th>Wind Speed</th>\n",
       "      <th>Country.1</th>\n",
       "      <th>Date.1</th>\n",
       "    </tr>\n",
       "  </thead>\n",
       "  <tbody>\n",
       "    <tr>\n",
       "      <th>0</th>\n",
       "      <td>0</td>\n",
       "      <td>Lodeynoye Pole</td>\n",
       "      <td>RU</td>\n",
       "      <td>2022-05-10 23:27:58</td>\n",
       "      <td>60.7260</td>\n",
       "      <td>33.5531</td>\n",
       "      <td>39.76</td>\n",
       "      <td>76</td>\n",
       "      <td>24</td>\n",
       "      <td>4.05</td>\n",
       "      <td>RU</td>\n",
       "      <td>2022-05-10 23:27:58</td>\n",
       "    </tr>\n",
       "    <tr>\n",
       "      <th>1</th>\n",
       "      <td>1</td>\n",
       "      <td>Fortuna</td>\n",
       "      <td>US</td>\n",
       "      <td>2022-05-10 23:27:59</td>\n",
       "      <td>40.5982</td>\n",
       "      <td>-124.1573</td>\n",
       "      <td>57.92</td>\n",
       "      <td>61</td>\n",
       "      <td>20</td>\n",
       "      <td>13.80</td>\n",
       "      <td>US</td>\n",
       "      <td>2022-05-10 23:27:59</td>\n",
       "    </tr>\n",
       "    <tr>\n",
       "      <th>2</th>\n",
       "      <td>2</td>\n",
       "      <td>Jamestown</td>\n",
       "      <td>US</td>\n",
       "      <td>2022-05-10 23:27:59</td>\n",
       "      <td>42.0970</td>\n",
       "      <td>-79.2353</td>\n",
       "      <td>76.64</td>\n",
       "      <td>12</td>\n",
       "      <td>0</td>\n",
       "      <td>0.00</td>\n",
       "      <td>US</td>\n",
       "      <td>2022-05-10 23:27:59</td>\n",
       "    </tr>\n",
       "    <tr>\n",
       "      <th>3</th>\n",
       "      <td>3</td>\n",
       "      <td>Chudniv</td>\n",
       "      <td>UA</td>\n",
       "      <td>2022-05-10 23:28:00</td>\n",
       "      <td>50.0520</td>\n",
       "      <td>28.1175</td>\n",
       "      <td>45.45</td>\n",
       "      <td>64</td>\n",
       "      <td>100</td>\n",
       "      <td>5.79</td>\n",
       "      <td>UA</td>\n",
       "      <td>2022-05-10 23:28:00</td>\n",
       "    </tr>\n",
       "    <tr>\n",
       "      <th>4</th>\n",
       "      <td>4</td>\n",
       "      <td>Rikitea</td>\n",
       "      <td>PF</td>\n",
       "      <td>2022-05-10 23:23:13</td>\n",
       "      <td>-23.1203</td>\n",
       "      <td>-134.9692</td>\n",
       "      <td>76.87</td>\n",
       "      <td>70</td>\n",
       "      <td>3</td>\n",
       "      <td>15.66</td>\n",
       "      <td>PF</td>\n",
       "      <td>2022-05-10 23:23:13</td>\n",
       "    </tr>\n",
       "  </tbody>\n",
       "</table>\n",
       "</div>"
      ],
      "text/plain": [
       "   City_ID            City Country                 Date      Lat       Lng  \\\n",
       "0        0  Lodeynoye Pole      RU  2022-05-10 23:27:58  60.7260   33.5531   \n",
       "1        1         Fortuna      US  2022-05-10 23:27:59  40.5982 -124.1573   \n",
       "2        2       Jamestown      US  2022-05-10 23:27:59  42.0970  -79.2353   \n",
       "3        3         Chudniv      UA  2022-05-10 23:28:00  50.0520   28.1175   \n",
       "4        4         Rikitea      PF  2022-05-10 23:23:13 -23.1203 -134.9692   \n",
       "\n",
       "   Max Temp  Humidity  Cloudiness  Wind Speed Country.1               Date.1  \n",
       "0     39.76        76          24        4.05        RU  2022-05-10 23:27:58  \n",
       "1     57.92        61          20       13.80        US  2022-05-10 23:27:59  \n",
       "2     76.64        12           0        0.00        US  2022-05-10 23:27:59  \n",
       "3     45.45        64         100        5.79        UA  2022-05-10 23:28:00  \n",
       "4     76.87        70           3       15.66        PF  2022-05-10 23:23:13  "
      ]
     },
     "execution_count": 3,
     "metadata": {},
     "output_type": "execute_result"
    }
   ],
   "source": [
    "# Store the CSV you saved created in part one into a DataFrame.\n",
    "city_data_df = pd.read_csv(\"weather_data/cities.csv\")\n",
    "city_data_df.head()"
   ]
  },
  {
   "cell_type": "code",
   "execution_count": 4,
   "id": "12f394b2",
   "metadata": {},
   "outputs": [
    {
     "data": {
      "text/plain": [
       "City_ID         int64\n",
       "City           object\n",
       "Country        object\n",
       "Date           object\n",
       "Lat           float64\n",
       "Lng           float64\n",
       "Max Temp      float64\n",
       "Humidity        int64\n",
       "Cloudiness      int64\n",
       "Wind Speed    float64\n",
       "Country.1      object\n",
       "Date.1         object\n",
       "dtype: object"
      ]
     },
     "execution_count": 4,
     "metadata": {},
     "output_type": "execute_result"
    }
   ],
   "source": [
    "# Get the data types\n",
    "city_data_df.dtypes"
   ]
  },
  {
   "cell_type": "code",
   "execution_count": 5,
   "id": "b81fb500",
   "metadata": {},
   "outputs": [],
   "source": [
    "# Configure gmaps to use your Google API key.\n",
    "gmaps.configure(api_key=google_API_Key)"
   ]
  },
  {
   "cell_type": "code",
   "execution_count": 6,
   "id": "38ec30f4",
   "metadata": {},
   "outputs": [],
   "source": [
    "## Get the maximum temperature.\n",
    "max_temp = city_data_df[\"Max Temp\"]\n",
    "temps = []\n",
    "for temp in max_temp:\n",
    "    temps.append(max(temp, 0))"
   ]
  },
  {
   "cell_type": "code",
   "execution_count": 7,
   "id": "233ab28c",
   "metadata": {},
   "outputs": [
    {
     "data": {
      "application/vnd.jupyter.widget-view+json": {
       "model_id": "46a0e6ce1cd34867b2e38a2566887e9a",
       "version_major": 2,
       "version_minor": 0
      },
      "text/plain": [
       "Figure(layout=FigureLayout(height='420px'))"
      ]
     },
     "metadata": {},
     "output_type": "display_data"
    }
   ],
   "source": [
    "# Heatmap of temperature\n",
    "\n",
    "# Get the latitude and longitude.\n",
    "locations = city_data_df[[\"Lat\", \"Lng\"]]\n",
    "# Get the maximum temperature.\n",
    "max_temp = city_data_df[\"Max Temp\"]\n",
    "# Assign the figure variable.\n",
    "fig = gmaps.figure()\n",
    "# Assign the heatmap variable.\n",
    "heat_layer = gmaps.heatmap_layer(locations, weights=[max(temp, 0) for temp in max_temp])\n",
    "# Add the heatmap layer.\n",
    "fig.add_layer(heat_layer)\n",
    "# Call the figure to plot the data.\n",
    "fig"
   ]
  },
  {
   "cell_type": "code",
   "execution_count": 8,
   "id": "1247eb84",
   "metadata": {},
   "outputs": [],
   "source": [
    "fig = gmaps.figure(center=(30.0, 31.0), zoom_level=1.5)"
   ]
  },
  {
   "cell_type": "code",
   "execution_count": 9,
   "id": "dad1c7b9",
   "metadata": {},
   "outputs": [
    {
     "data": {
      "application/vnd.jupyter.widget-view+json": {
       "model_id": "89962d353b9d4cd587161a88b7ac8a76",
       "version_major": 2,
       "version_minor": 0
      },
      "text/plain": [
       "Figure(layout=FigureLayout(height='420px'))"
      ]
     },
     "metadata": {},
     "output_type": "display_data"
    }
   ],
   "source": [
    "fig"
   ]
  },
  {
   "cell_type": "code",
   "execution_count": 10,
   "id": "3ef47d40",
   "metadata": {},
   "outputs": [
    {
     "data": {
      "application/vnd.jupyter.widget-view+json": {
       "model_id": "b97cf441bd194d6da2295e68d79053c9",
       "version_major": 2,
       "version_minor": 0
      },
      "text/plain": [
       "Figure(layout=FigureLayout(height='420px'))"
      ]
     },
     "metadata": {},
     "output_type": "display_data"
    }
   ],
   "source": [
    "# Heatmap of percent humidity\n",
    "locations = city_data_df[[\"Lat\", \"Lng\"]]\n",
    "humidity = city_data_df[\"Humidity\"]\n",
    "fig = gmaps.figure(center=(30.0, 31.0), zoom_level=1.5)\n",
    "heat_layer = gmaps.heatmap_layer(locations, weights=humidity, dissipating=False, max_intensity=300, point_radius=4)\n",
    "\n",
    "fig.add_layer(heat_layer)\n",
    "# Call the figure to plot the data.\n",
    "fig"
   ]
  },
  {
   "cell_type": "code",
   "execution_count": 11,
   "id": "45fbc324",
   "metadata": {},
   "outputs": [
    {
     "data": {
      "application/vnd.jupyter.widget-view+json": {
       "model_id": "87e5aa3bb6024de7a0fa77518f447a6f",
       "version_major": 2,
       "version_minor": 0
      },
      "text/plain": [
       "Figure(layout=FigureLayout(height='420px'))"
      ]
     },
     "metadata": {},
     "output_type": "display_data"
    }
   ],
   "source": [
    "# Heatmap of percent cloudiness\n",
    "locations = city_data_df[[\"Lat\", \"Lng\"]]\n",
    "clouds = city_data_df[\"Cloudiness\"]\n",
    "fig = gmaps.figure(center=(30.0, 31.0), zoom_level=1.5)\n",
    "heat_layer = gmaps.heatmap_layer(locations, weights=clouds, dissipating=False, max_intensity=300, point_radius=4)\n",
    "\n",
    "fig.add_layer(heat_layer)\n",
    "# Call the figure to plot the data.\n",
    "fig"
   ]
  },
  {
   "cell_type": "code",
   "execution_count": 12,
   "id": "9c1dae8a",
   "metadata": {},
   "outputs": [
    {
     "data": {
      "application/vnd.jupyter.widget-view+json": {
       "model_id": "35eea148002e44cbb42e52be0ee63ea8",
       "version_major": 2,
       "version_minor": 0
      },
      "text/plain": [
       "Figure(layout=FigureLayout(height='420px'))"
      ]
     },
     "metadata": {},
     "output_type": "display_data"
    }
   ],
   "source": [
    "# Heatmap of percent Wind Speed\n",
    "locations = city_data_df[[\"Lat\", \"Lng\"]]\n",
    "clouds = wind = city_data_df[\"Wind Speed\"]\n",
    "fig = gmaps.figure(center=(30.0, 31.0), zoom_level=1.5)\n",
    "heat_layer = gmaps.heatmap_layer(locations, weights=wind, dissipating=False, max_intensity=300, point_radius=4)\n",
    "\n",
    "fig.add_layer(heat_layer)\n",
    "# Call the figure to plot the data.\n",
    "fig"
   ]
  },
  {
   "cell_type": "code",
   "execution_count": 13,
   "id": "78311c10",
   "metadata": {},
   "outputs": [
    {
     "name": "stdout",
     "output_type": "stream",
     "text": [
      "What is the minimum temperature you would like for your trip? 75\n",
      "What is the maximum temperature you would like for your trip? 85\n"
     ]
    }
   ],
   "source": [
    "# Ask the customer to add a minimum and maximum temperature value.\n",
    "min_temp = float(input(\"What is the minimum temperature you would like for your trip? \"))\n",
    "max_temp = float(input(\"What is the maximum temperature you would like for your trip? \"))"
   ]
  },
  {
   "cell_type": "code",
   "execution_count": 14,
   "id": "baeebc30",
   "metadata": {},
   "outputs": [
    {
     "data": {
      "text/html": [
       "<div>\n",
       "<style scoped>\n",
       "    .dataframe tbody tr th:only-of-type {\n",
       "        vertical-align: middle;\n",
       "    }\n",
       "\n",
       "    .dataframe tbody tr th {\n",
       "        vertical-align: top;\n",
       "    }\n",
       "\n",
       "    .dataframe thead th {\n",
       "        text-align: right;\n",
       "    }\n",
       "</style>\n",
       "<table border=\"1\" class=\"dataframe\">\n",
       "  <thead>\n",
       "    <tr style=\"text-align: right;\">\n",
       "      <th></th>\n",
       "      <th>City_ID</th>\n",
       "      <th>City</th>\n",
       "      <th>Country</th>\n",
       "      <th>Date</th>\n",
       "      <th>Lat</th>\n",
       "      <th>Lng</th>\n",
       "      <th>Max Temp</th>\n",
       "      <th>Humidity</th>\n",
       "      <th>Cloudiness</th>\n",
       "      <th>Wind Speed</th>\n",
       "      <th>Country.1</th>\n",
       "      <th>Date.1</th>\n",
       "    </tr>\n",
       "  </thead>\n",
       "  <tbody>\n",
       "    <tr>\n",
       "      <th>2</th>\n",
       "      <td>2</td>\n",
       "      <td>Jamestown</td>\n",
       "      <td>US</td>\n",
       "      <td>2022-05-10 23:27:59</td>\n",
       "      <td>42.0970</td>\n",
       "      <td>-79.2353</td>\n",
       "      <td>76.64</td>\n",
       "      <td>12</td>\n",
       "      <td>0</td>\n",
       "      <td>0.00</td>\n",
       "      <td>US</td>\n",
       "      <td>2022-05-10 23:27:59</td>\n",
       "    </tr>\n",
       "    <tr>\n",
       "      <th>4</th>\n",
       "      <td>4</td>\n",
       "      <td>Rikitea</td>\n",
       "      <td>PF</td>\n",
       "      <td>2022-05-10 23:23:13</td>\n",
       "      <td>-23.1203</td>\n",
       "      <td>-134.9692</td>\n",
       "      <td>76.87</td>\n",
       "      <td>70</td>\n",
       "      <td>3</td>\n",
       "      <td>15.66</td>\n",
       "      <td>PF</td>\n",
       "      <td>2022-05-10 23:23:13</td>\n",
       "    </tr>\n",
       "    <tr>\n",
       "      <th>5</th>\n",
       "      <td>5</td>\n",
       "      <td>Hilo</td>\n",
       "      <td>US</td>\n",
       "      <td>2022-05-10 23:23:42</td>\n",
       "      <td>19.7297</td>\n",
       "      <td>-155.0900</td>\n",
       "      <td>82.27</td>\n",
       "      <td>77</td>\n",
       "      <td>75</td>\n",
       "      <td>13.80</td>\n",
       "      <td>US</td>\n",
       "      <td>2022-05-10 23:23:42</td>\n",
       "    </tr>\n",
       "    <tr>\n",
       "      <th>6</th>\n",
       "      <td>6</td>\n",
       "      <td>Vaini</td>\n",
       "      <td>TO</td>\n",
       "      <td>2022-05-10 23:23:15</td>\n",
       "      <td>-21.2000</td>\n",
       "      <td>-175.2000</td>\n",
       "      <td>80.76</td>\n",
       "      <td>61</td>\n",
       "      <td>20</td>\n",
       "      <td>8.05</td>\n",
       "      <td>TO</td>\n",
       "      <td>2022-05-10 23:23:15</td>\n",
       "    </tr>\n",
       "    <tr>\n",
       "      <th>7</th>\n",
       "      <td>7</td>\n",
       "      <td>Isangel</td>\n",
       "      <td>VU</td>\n",
       "      <td>2022-05-10 23:28:01</td>\n",
       "      <td>-19.5500</td>\n",
       "      <td>169.2667</td>\n",
       "      <td>82.51</td>\n",
       "      <td>65</td>\n",
       "      <td>75</td>\n",
       "      <td>6.91</td>\n",
       "      <td>VU</td>\n",
       "      <td>2022-05-10 23:28:01</td>\n",
       "    </tr>\n",
       "    <tr>\n",
       "      <th>14</th>\n",
       "      <td>14</td>\n",
       "      <td>Atuona</td>\n",
       "      <td>PF</td>\n",
       "      <td>2022-05-10 23:28:04</td>\n",
       "      <td>-9.8000</td>\n",
       "      <td>-139.0333</td>\n",
       "      <td>78.55</td>\n",
       "      <td>68</td>\n",
       "      <td>36</td>\n",
       "      <td>19.06</td>\n",
       "      <td>PF</td>\n",
       "      <td>2022-05-10 23:28:04</td>\n",
       "    </tr>\n",
       "    <tr>\n",
       "      <th>20</th>\n",
       "      <td>20</td>\n",
       "      <td>Dawei</td>\n",
       "      <td>MM</td>\n",
       "      <td>2022-05-10 23:28:07</td>\n",
       "      <td>14.0833</td>\n",
       "      <td>98.2000</td>\n",
       "      <td>77.74</td>\n",
       "      <td>90</td>\n",
       "      <td>81</td>\n",
       "      <td>2.51</td>\n",
       "      <td>MM</td>\n",
       "      <td>2022-05-10 23:28:07</td>\n",
       "    </tr>\n",
       "    <tr>\n",
       "      <th>29</th>\n",
       "      <td>29</td>\n",
       "      <td>Bandar-E Lengeh</td>\n",
       "      <td>IR</td>\n",
       "      <td>2022-05-10 23:28:12</td>\n",
       "      <td>26.5579</td>\n",
       "      <td>54.8807</td>\n",
       "      <td>79.79</td>\n",
       "      <td>59</td>\n",
       "      <td>0</td>\n",
       "      <td>4.36</td>\n",
       "      <td>IR</td>\n",
       "      <td>2022-05-10 23:28:12</td>\n",
       "    </tr>\n",
       "    <tr>\n",
       "      <th>33</th>\n",
       "      <td>33</td>\n",
       "      <td>Kutum</td>\n",
       "      <td>SD</td>\n",
       "      <td>2022-05-10 23:25:12</td>\n",
       "      <td>14.2000</td>\n",
       "      <td>24.6667</td>\n",
       "      <td>78.75</td>\n",
       "      <td>11</td>\n",
       "      <td>49</td>\n",
       "      <td>8.84</td>\n",
       "      <td>SD</td>\n",
       "      <td>2022-05-10 23:25:12</td>\n",
       "    </tr>\n",
       "    <tr>\n",
       "      <th>36</th>\n",
       "      <td>36</td>\n",
       "      <td>Hithadhoo</td>\n",
       "      <td>MV</td>\n",
       "      <td>2022-05-10 23:28:15</td>\n",
       "      <td>-0.6000</td>\n",
       "      <td>73.0833</td>\n",
       "      <td>83.53</td>\n",
       "      <td>76</td>\n",
       "      <td>100</td>\n",
       "      <td>16.64</td>\n",
       "      <td>MV</td>\n",
       "      <td>2022-05-10 23:28:15</td>\n",
       "    </tr>\n",
       "  </tbody>\n",
       "</table>\n",
       "</div>"
      ],
      "text/plain": [
       "    City_ID             City Country                 Date      Lat       Lng  \\\n",
       "2         2        Jamestown      US  2022-05-10 23:27:59  42.0970  -79.2353   \n",
       "4         4          Rikitea      PF  2022-05-10 23:23:13 -23.1203 -134.9692   \n",
       "5         5             Hilo      US  2022-05-10 23:23:42  19.7297 -155.0900   \n",
       "6         6            Vaini      TO  2022-05-10 23:23:15 -21.2000 -175.2000   \n",
       "7         7          Isangel      VU  2022-05-10 23:28:01 -19.5500  169.2667   \n",
       "14       14           Atuona      PF  2022-05-10 23:28:04  -9.8000 -139.0333   \n",
       "20       20            Dawei      MM  2022-05-10 23:28:07  14.0833   98.2000   \n",
       "29       29  Bandar-E Lengeh      IR  2022-05-10 23:28:12  26.5579   54.8807   \n",
       "33       33            Kutum      SD  2022-05-10 23:25:12  14.2000   24.6667   \n",
       "36       36        Hithadhoo      MV  2022-05-10 23:28:15  -0.6000   73.0833   \n",
       "\n",
       "    Max Temp  Humidity  Cloudiness  Wind Speed Country.1               Date.1  \n",
       "2      76.64        12           0        0.00        US  2022-05-10 23:27:59  \n",
       "4      76.87        70           3       15.66        PF  2022-05-10 23:23:13  \n",
       "5      82.27        77          75       13.80        US  2022-05-10 23:23:42  \n",
       "6      80.76        61          20        8.05        TO  2022-05-10 23:23:15  \n",
       "7      82.51        65          75        6.91        VU  2022-05-10 23:28:01  \n",
       "14     78.55        68          36       19.06        PF  2022-05-10 23:28:04  \n",
       "20     77.74        90          81        2.51        MM  2022-05-10 23:28:07  \n",
       "29     79.79        59           0        4.36        IR  2022-05-10 23:28:12  \n",
       "33     78.75        11          49        8.84        SD  2022-05-10 23:25:12  \n",
       "36     83.53        76         100       16.64        MV  2022-05-10 23:28:15  "
      ]
     },
     "execution_count": 14,
     "metadata": {},
     "output_type": "execute_result"
    }
   ],
   "source": [
    "# Filter the dataset to find the cities that fit the criteria.\n",
    "preferred_cities_df = city_data_df.loc[(city_data_df[\"Max Temp\"] <= max_temp) & \\\n",
    "                                       (city_data_df[\"Max Temp\"] >= min_temp)]\n",
    "preferred_cities_df.head(10)\n"
   ]
  },
  {
   "cell_type": "code",
   "execution_count": 15,
   "id": "26f90e1d",
   "metadata": {},
   "outputs": [
    {
     "data": {
      "text/plain": [
       "City_ID       32\n",
       "City          32\n",
       "Country       32\n",
       "Date          32\n",
       "Lat           32\n",
       "Lng           32\n",
       "Max Temp      32\n",
       "Humidity      32\n",
       "Cloudiness    32\n",
       "Wind Speed    32\n",
       "Country.1     32\n",
       "Date.1        32\n",
       "dtype: int64"
      ]
     },
     "execution_count": 15,
     "metadata": {},
     "output_type": "execute_result"
    }
   ],
   "source": [
    "preferred_cities_df.count()"
   ]
  },
  {
   "cell_type": "code",
   "execution_count": 16,
   "id": "2dc7a42c",
   "metadata": {},
   "outputs": [
    {
     "data": {
      "text/html": [
       "<div>\n",
       "<style scoped>\n",
       "    .dataframe tbody tr th:only-of-type {\n",
       "        vertical-align: middle;\n",
       "    }\n",
       "\n",
       "    .dataframe tbody tr th {\n",
       "        vertical-align: top;\n",
       "    }\n",
       "\n",
       "    .dataframe thead th {\n",
       "        text-align: right;\n",
       "    }\n",
       "</style>\n",
       "<table border=\"1\" class=\"dataframe\">\n",
       "  <thead>\n",
       "    <tr style=\"text-align: right;\">\n",
       "      <th></th>\n",
       "      <th>City</th>\n",
       "      <th>Country</th>\n",
       "      <th>Max Temp</th>\n",
       "      <th>Lat</th>\n",
       "      <th>Lng</th>\n",
       "      <th>Hotel Name</th>\n",
       "    </tr>\n",
       "  </thead>\n",
       "  <tbody>\n",
       "    <tr>\n",
       "      <th>2</th>\n",
       "      <td>Jamestown</td>\n",
       "      <td>US</td>\n",
       "      <td>76.64</td>\n",
       "      <td>42.0970</td>\n",
       "      <td>-79.2353</td>\n",
       "      <td></td>\n",
       "    </tr>\n",
       "    <tr>\n",
       "      <th>4</th>\n",
       "      <td>Rikitea</td>\n",
       "      <td>PF</td>\n",
       "      <td>76.87</td>\n",
       "      <td>-23.1203</td>\n",
       "      <td>-134.9692</td>\n",
       "      <td></td>\n",
       "    </tr>\n",
       "    <tr>\n",
       "      <th>5</th>\n",
       "      <td>Hilo</td>\n",
       "      <td>US</td>\n",
       "      <td>82.27</td>\n",
       "      <td>19.7297</td>\n",
       "      <td>-155.0900</td>\n",
       "      <td></td>\n",
       "    </tr>\n",
       "    <tr>\n",
       "      <th>6</th>\n",
       "      <td>Vaini</td>\n",
       "      <td>TO</td>\n",
       "      <td>80.76</td>\n",
       "      <td>-21.2000</td>\n",
       "      <td>-175.2000</td>\n",
       "      <td></td>\n",
       "    </tr>\n",
       "    <tr>\n",
       "      <th>7</th>\n",
       "      <td>Isangel</td>\n",
       "      <td>VU</td>\n",
       "      <td>82.51</td>\n",
       "      <td>-19.5500</td>\n",
       "      <td>169.2667</td>\n",
       "      <td></td>\n",
       "    </tr>\n",
       "    <tr>\n",
       "      <th>14</th>\n",
       "      <td>Atuona</td>\n",
       "      <td>PF</td>\n",
       "      <td>78.55</td>\n",
       "      <td>-9.8000</td>\n",
       "      <td>-139.0333</td>\n",
       "      <td></td>\n",
       "    </tr>\n",
       "    <tr>\n",
       "      <th>20</th>\n",
       "      <td>Dawei</td>\n",
       "      <td>MM</td>\n",
       "      <td>77.74</td>\n",
       "      <td>14.0833</td>\n",
       "      <td>98.2000</td>\n",
       "      <td></td>\n",
       "    </tr>\n",
       "    <tr>\n",
       "      <th>29</th>\n",
       "      <td>Bandar-E Lengeh</td>\n",
       "      <td>IR</td>\n",
       "      <td>79.79</td>\n",
       "      <td>26.5579</td>\n",
       "      <td>54.8807</td>\n",
       "      <td></td>\n",
       "    </tr>\n",
       "    <tr>\n",
       "      <th>33</th>\n",
       "      <td>Kutum</td>\n",
       "      <td>SD</td>\n",
       "      <td>78.75</td>\n",
       "      <td>14.2000</td>\n",
       "      <td>24.6667</td>\n",
       "      <td></td>\n",
       "    </tr>\n",
       "    <tr>\n",
       "      <th>36</th>\n",
       "      <td>Hithadhoo</td>\n",
       "      <td>MV</td>\n",
       "      <td>83.53</td>\n",
       "      <td>-0.6000</td>\n",
       "      <td>73.0833</td>\n",
       "      <td></td>\n",
       "    </tr>\n",
       "  </tbody>\n",
       "</table>\n",
       "</div>"
      ],
      "text/plain": [
       "               City Country  Max Temp      Lat       Lng Hotel Name\n",
       "2         Jamestown      US     76.64  42.0970  -79.2353           \n",
       "4           Rikitea      PF     76.87 -23.1203 -134.9692           \n",
       "5              Hilo      US     82.27  19.7297 -155.0900           \n",
       "6             Vaini      TO     80.76 -21.2000 -175.2000           \n",
       "7           Isangel      VU     82.51 -19.5500  169.2667           \n",
       "14           Atuona      PF     78.55  -9.8000 -139.0333           \n",
       "20            Dawei      MM     77.74  14.0833   98.2000           \n",
       "29  Bandar-E Lengeh      IR     79.79  26.5579   54.8807           \n",
       "33            Kutum      SD     78.75  14.2000   24.6667           \n",
       "36        Hithadhoo      MV     83.53  -0.6000   73.0833           "
      ]
     },
     "execution_count": 16,
     "metadata": {},
     "output_type": "execute_result"
    }
   ],
   "source": [
    "# Create DataFrame called hotel_df to store hotel names along with city, country, max temp, and coordinates.\n",
    "hotel_df = preferred_cities_df[[\"City\", \"Country\", \"Max Temp\", \"Lat\", \"Lng\"]].copy()\n",
    "hotel_df[\"Hotel Name\"] = \"\"\n",
    "hotel_df.head(10)"
   ]
  },
  {
   "cell_type": "code",
   "execution_count": 17,
   "id": "8f885294",
   "metadata": {},
   "outputs": [],
   "source": [
    "# Set parameters to search for a hotel.\n",
    "params = {\n",
    "    \"radius\": 5000,\n",
    "    \"type\": \"lodging\",\n",
    "    \"key\": google_API_Key\n",
    "}"
   ]
  },
  {
   "cell_type": "code",
   "execution_count": 18,
   "id": "741db97d",
   "metadata": {},
   "outputs": [
    {
     "ename": "IndexError",
     "evalue": "list index out of range",
     "output_type": "error",
     "traceback": [
      "\u001b[0;31m---------------------------------------------------------------------------\u001b[0m",
      "\u001b[0;31mIndexError\u001b[0m                                Traceback (most recent call last)",
      "Input \u001b[0;32mIn [18]\u001b[0m, in \u001b[0;36m<cell line: 2>\u001b[0;34m()\u001b[0m\n\u001b[1;32m     13\u001b[0m hotels \u001b[38;5;241m=\u001b[39m requests\u001b[38;5;241m.\u001b[39mget(base_url, params\u001b[38;5;241m=\u001b[39mparams)\u001b[38;5;241m.\u001b[39mjson()\n\u001b[1;32m     14\u001b[0m \u001b[38;5;66;03m# Grab the first hotel from the results and store the name.\u001b[39;00m\n\u001b[0;32m---> 15\u001b[0m hotel_df\u001b[38;5;241m.\u001b[39mloc[index, \u001b[38;5;124m\"\u001b[39m\u001b[38;5;124mHotel Name\u001b[39m\u001b[38;5;124m\"\u001b[39m] \u001b[38;5;241m=\u001b[39m \u001b[43mhotels\u001b[49m\u001b[43m[\u001b[49m\u001b[38;5;124;43m\"\u001b[39;49m\u001b[38;5;124;43mresults\u001b[39;49m\u001b[38;5;124;43m\"\u001b[39;49m\u001b[43m]\u001b[49m\u001b[43m[\u001b[49m\u001b[38;5;241;43m0\u001b[39;49m\u001b[43m]\u001b[49m[\u001b[38;5;124m\"\u001b[39m\u001b[38;5;124mname\u001b[39m\u001b[38;5;124m\"\u001b[39m]\n\u001b[1;32m     16\u001b[0m \u001b[38;5;66;03m# Grab the first hotel from the results and store the name.\u001b[39;00m\n\u001b[1;32m     17\u001b[0m \u001b[38;5;28;01mtry\u001b[39;00m:\n",
      "\u001b[0;31mIndexError\u001b[0m: list index out of range"
     ]
    }
   ],
   "source": [
    "# Iterate through the DataFrame.\n",
    "for index, row in hotel_df.iterrows():\n",
    "    # Get the latitude and longitude.\n",
    "    lat = row[\"Lat\"]\n",
    "    lng = row[\"Lng\"]\n",
    "\n",
    "    # Add the latitude and longitude to location key for the params dictionary.\n",
    "    params[\"location\"] = f\"{lat},{lng}\"\n",
    "\n",
    "    # Use the search term: \"lodging\" and our latitude and longitude.\n",
    "    base_url = \"https://maps.googleapis.com/maps/api/place/nearbysearch/json\"\n",
    "    # Make request and get the JSON data from the search.\n",
    "    hotels = requests.get(base_url, params=params).json()\n",
    "    # Grab the first hotel from the results and store the name.\n",
    "    hotel_df.loc[index, \"Hotel Name\"] = hotels[\"results\"][0][\"name\"]\n",
    "    # Grab the first hotel from the results and store the name.\n",
    "    try:\n",
    "        hotel_df.loc[index, \"Hotel Name\"] = hotels[\"results\"][0][\"name\"]\n",
    "    except (IndexError):\n",
    "        print(\"Hotel not found... skipping.\")"
   ]
  },
  {
   "cell_type": "code",
   "execution_count": 19,
   "id": "a1504368",
   "metadata": {
    "scrolled": false
   },
   "outputs": [
    {
     "data": {
      "text/html": [
       "<div>\n",
       "<style scoped>\n",
       "    .dataframe tbody tr th:only-of-type {\n",
       "        vertical-align: middle;\n",
       "    }\n",
       "\n",
       "    .dataframe tbody tr th {\n",
       "        vertical-align: top;\n",
       "    }\n",
       "\n",
       "    .dataframe thead th {\n",
       "        text-align: right;\n",
       "    }\n",
       "</style>\n",
       "<table border=\"1\" class=\"dataframe\">\n",
       "  <thead>\n",
       "    <tr style=\"text-align: right;\">\n",
       "      <th></th>\n",
       "      <th>City</th>\n",
       "      <th>Country</th>\n",
       "      <th>Max Temp</th>\n",
       "      <th>Lat</th>\n",
       "      <th>Lng</th>\n",
       "      <th>Hotel Name</th>\n",
       "    </tr>\n",
       "  </thead>\n",
       "  <tbody>\n",
       "    <tr>\n",
       "      <th>2</th>\n",
       "      <td>Jamestown</td>\n",
       "      <td>US</td>\n",
       "      <td>76.64</td>\n",
       "      <td>42.0970</td>\n",
       "      <td>-79.2353</td>\n",
       "      <td>Hampton Inn &amp; Suites Jamestown</td>\n",
       "    </tr>\n",
       "    <tr>\n",
       "      <th>4</th>\n",
       "      <td>Rikitea</td>\n",
       "      <td>PF</td>\n",
       "      <td>76.87</td>\n",
       "      <td>-23.1203</td>\n",
       "      <td>-134.9692</td>\n",
       "      <td>People ThankYou</td>\n",
       "    </tr>\n",
       "    <tr>\n",
       "      <th>5</th>\n",
       "      <td>Hilo</td>\n",
       "      <td>US</td>\n",
       "      <td>82.27</td>\n",
       "      <td>19.7297</td>\n",
       "      <td>-155.0900</td>\n",
       "      <td>Hilo Hawaiian Hotel</td>\n",
       "    </tr>\n",
       "    <tr>\n",
       "      <th>6</th>\n",
       "      <td>Vaini</td>\n",
       "      <td>TO</td>\n",
       "      <td>80.76</td>\n",
       "      <td>-21.2000</td>\n",
       "      <td>-175.2000</td>\n",
       "      <td>Keleti Beach Resort</td>\n",
       "    </tr>\n",
       "    <tr>\n",
       "      <th>7</th>\n",
       "      <td>Isangel</td>\n",
       "      <td>VU</td>\n",
       "      <td>82.51</td>\n",
       "      <td>-19.5500</td>\n",
       "      <td>169.2667</td>\n",
       "      <td>Tanna Lodge</td>\n",
       "    </tr>\n",
       "    <tr>\n",
       "      <th>14</th>\n",
       "      <td>Atuona</td>\n",
       "      <td>PF</td>\n",
       "      <td>78.55</td>\n",
       "      <td>-9.8000</td>\n",
       "      <td>-139.0333</td>\n",
       "      <td>Villa Enata</td>\n",
       "    </tr>\n",
       "    <tr>\n",
       "      <th>20</th>\n",
       "      <td>Dawei</td>\n",
       "      <td>MM</td>\n",
       "      <td>77.74</td>\n",
       "      <td>14.0833</td>\n",
       "      <td>98.2000</td>\n",
       "      <td>Hotel Dawei</td>\n",
       "    </tr>\n",
       "    <tr>\n",
       "      <th>29</th>\n",
       "      <td>Bandar-E Lengeh</td>\n",
       "      <td>IR</td>\n",
       "      <td>79.79</td>\n",
       "      <td>26.5579</td>\n",
       "      <td>54.8807</td>\n",
       "      <td>کافی نت پارس</td>\n",
       "    </tr>\n",
       "    <tr>\n",
       "      <th>33</th>\n",
       "      <td>Kutum</td>\n",
       "      <td>SD</td>\n",
       "      <td>78.75</td>\n",
       "      <td>14.2000</td>\n",
       "      <td>24.6667</td>\n",
       "      <td>Dibbo areaمنطقة دبو</td>\n",
       "    </tr>\n",
       "    <tr>\n",
       "      <th>36</th>\n",
       "      <td>Hithadhoo</td>\n",
       "      <td>MV</td>\n",
       "      <td>83.53</td>\n",
       "      <td>-0.6000</td>\n",
       "      <td>73.0833</td>\n",
       "      <td>Scoop Guest House</td>\n",
       "    </tr>\n",
       "  </tbody>\n",
       "</table>\n",
       "</div>"
      ],
      "text/plain": [
       "               City Country  Max Temp      Lat       Lng  \\\n",
       "2         Jamestown      US     76.64  42.0970  -79.2353   \n",
       "4           Rikitea      PF     76.87 -23.1203 -134.9692   \n",
       "5              Hilo      US     82.27  19.7297 -155.0900   \n",
       "6             Vaini      TO     80.76 -21.2000 -175.2000   \n",
       "7           Isangel      VU     82.51 -19.5500  169.2667   \n",
       "14           Atuona      PF     78.55  -9.8000 -139.0333   \n",
       "20            Dawei      MM     77.74  14.0833   98.2000   \n",
       "29  Bandar-E Lengeh      IR     79.79  26.5579   54.8807   \n",
       "33            Kutum      SD     78.75  14.2000   24.6667   \n",
       "36        Hithadhoo      MV     83.53  -0.6000   73.0833   \n",
       "\n",
       "                        Hotel Name  \n",
       "2   Hampton Inn & Suites Jamestown  \n",
       "4                  People ThankYou  \n",
       "5              Hilo Hawaiian Hotel  \n",
       "6              Keleti Beach Resort  \n",
       "7                      Tanna Lodge  \n",
       "14                     Villa Enata  \n",
       "20                     Hotel Dawei  \n",
       "29                    کافی نت پارس  \n",
       "33             Dibbo areaمنطقة دبو  \n",
       "36               Scoop Guest House  "
      ]
     },
     "execution_count": 19,
     "metadata": {},
     "output_type": "execute_result"
    }
   ],
   "source": [
    "hotel_df.head(10)"
   ]
  },
  {
   "cell_type": "code",
   "execution_count": 20,
   "id": "d1266dc6",
   "metadata": {},
   "outputs": [
    {
     "name": "stdout",
     "output_type": "stream",
     "text": [
      "Hotel not found... skipping.\n"
     ]
    },
    {
     "data": {
      "application/vnd.jupyter.widget-view+json": {
       "model_id": "193a04e8e9734cc6bf542036bf84f17e",
       "version_major": 2,
       "version_minor": 0
      },
      "text/plain": [
       "Figure(layout=FigureLayout(height='420px'))"
      ]
     },
     "metadata": {},
     "output_type": "display_data"
    }
   ],
   "source": [
    "# Add a heatmap of temperature for the vacation spots.\n",
    "gmaps.configure(api_key=google_API_Key)\n",
    "locations = hotel_df[[\"Lat\", \"Lng\"]]\n",
    "max_temp = hotel_df[\"Max Temp\"]\n",
    "fig = gmaps.figure(center=(30.0, 31.0), zoom_level=1.5)\n",
    "heat_layer = gmaps.heatmap_layer(locations, weights=max_temp, dissipating=False,\n",
    "             max_intensity=300, point_radius=4)\n",
    "\n",
    "fig.add_layer(heat_layer)\n",
    "# Grab the first hotel from the results and store the name.\n",
    "try:\n",
    "    hotel_df.loc[index, \"Hotel Name\"] = hotels[\"results\"][0][\"name\"]\n",
    "except (IndexError):\n",
    "    print(\"Hotel not found... skipping.\")\n",
    "# Call the figure to plot the data.\n",
    "fig"
   ]
  },
  {
   "cell_type": "code",
   "execution_count": 21,
   "id": "cd8497af",
   "metadata": {},
   "outputs": [
    {
     "ename": "AttributeError",
     "evalue": "module 'collections' has no attribute 'Iterable'",
     "output_type": "error",
     "traceback": [
      "\u001b[0;31m---------------------------------------------------------------------------\u001b[0m",
      "\u001b[0;31mAttributeError\u001b[0m                            Traceback (most recent call last)",
      "Input \u001b[0;32mIn [21]\u001b[0m, in \u001b[0;36m<cell line: 8>\u001b[0;34m()\u001b[0m\n\u001b[1;32m      5\u001b[0m fig \u001b[38;5;241m=\u001b[39m gmaps\u001b[38;5;241m.\u001b[39mfigure(center\u001b[38;5;241m=\u001b[39m(\u001b[38;5;241m30.0\u001b[39m, \u001b[38;5;241m31.0\u001b[39m), zoom_level\u001b[38;5;241m=\u001b[39m\u001b[38;5;241m1.5\u001b[39m)\n\u001b[1;32m      6\u001b[0m \u001b[38;5;66;03m#heat_layer = gmaps.heatmap_layer(locations, weights=max_temp,dissipating=False,\u001b[39;00m\n\u001b[1;32m      7\u001b[0m              \u001b[38;5;66;03m#max_intensity=300, point_radius=4)\u001b[39;00m\n\u001b[0;32m----> 8\u001b[0m marker_layer \u001b[38;5;241m=\u001b[39m \u001b[43mgmaps\u001b[49m\u001b[38;5;241;43m.\u001b[39;49m\u001b[43mmarker_layer\u001b[49m\u001b[43m(\u001b[49m\u001b[43mMarker\u001b[49m\u001b[43m)\u001b[49m\n\u001b[1;32m      9\u001b[0m \u001b[38;5;66;03m#fig.add_layer(heat_layer)\u001b[39;00m\n\u001b[1;32m     10\u001b[0m fig\u001b[38;5;241m.\u001b[39madd_layer(marker_layer)\n",
      "File \u001b[0;32m~/opt/anaconda3/envs/PythonData/lib/python3.10/site-packages/gmaps/marker.py:553\u001b[0m, in \u001b[0;36mmarker_layer\u001b[0;34m(locations, hover_text, label, info_box_content, display_info_box)\u001b[0m\n\u001b[1;32m    485\u001b[0m \u001b[38;5;129m@doc_subst\u001b[39m(_doc_snippets)\n\u001b[1;32m    486\u001b[0m \u001b[38;5;28;01mdef\u001b[39;00m \u001b[38;5;21mmarker_layer\u001b[39m(\n\u001b[1;32m    487\u001b[0m         locations, hover_text\u001b[38;5;241m=\u001b[39m\u001b[38;5;124m'\u001b[39m\u001b[38;5;124m'\u001b[39m, label\u001b[38;5;241m=\u001b[39m\u001b[38;5;124m'\u001b[39m\u001b[38;5;124m'\u001b[39m,\n\u001b[1;32m    488\u001b[0m         info_box_content\u001b[38;5;241m=\u001b[39m\u001b[38;5;28;01mNone\u001b[39;00m, display_info_box\u001b[38;5;241m=\u001b[39m\u001b[38;5;28;01mNone\u001b[39;00m):\n\u001b[1;32m    489\u001b[0m     \u001b[38;5;124;03m\"\"\"\u001b[39;00m\n\u001b[1;32m    490\u001b[0m \u001b[38;5;124;03m    Marker layer\u001b[39;00m\n\u001b[1;32m    491\u001b[0m \n\u001b[0;32m   (...)\u001b[0m\n\u001b[1;32m    551\u001b[0m \u001b[38;5;124;03m        A :class:`gmaps.Markers` instance.\u001b[39;00m\n\u001b[1;32m    552\u001b[0m \u001b[38;5;124;03m    \"\"\"\u001b[39;00m\n\u001b[0;32m--> 553\u001b[0m     marker_options \u001b[38;5;241m=\u001b[39m \u001b[43m_marker_layer_options\u001b[49m\u001b[43m(\u001b[49m\n\u001b[1;32m    554\u001b[0m \u001b[43m        \u001b[49m\u001b[43mlocations\u001b[49m\u001b[43m,\u001b[49m\u001b[43m \u001b[49m\u001b[43mhover_text\u001b[49m\u001b[43m,\u001b[49m\u001b[43m \u001b[49m\u001b[43mlabel\u001b[49m\u001b[43m,\u001b[49m\u001b[43m \u001b[49m\u001b[43minfo_box_content\u001b[49m\u001b[43m,\u001b[49m\u001b[43m \u001b[49m\u001b[43mdisplay_info_box\u001b[49m\u001b[43m)\u001b[49m\n\u001b[1;32m    555\u001b[0m     markers \u001b[38;5;241m=\u001b[39m [Marker(\u001b[38;5;241m*\u001b[39m\u001b[38;5;241m*\u001b[39moption) \u001b[38;5;28;01mfor\u001b[39;00m option \u001b[38;5;129;01min\u001b[39;00m marker_options]\n\u001b[1;32m    556\u001b[0m     \u001b[38;5;28;01mreturn\u001b[39;00m Markers(markers\u001b[38;5;241m=\u001b[39mmarkers)\n",
      "File \u001b[0;32m~/opt/anaconda3/envs/PythonData/lib/python3.10/site-packages/gmaps/marker.py:311\u001b[0m, in \u001b[0;36m_marker_layer_options\u001b[0;34m(locations, hover_text, label, info_box_content, display_info_box)\u001b[0m\n\u001b[1;32m    309\u001b[0m \u001b[38;5;28;01mif\u001b[39;00m is_atomic(label):\n\u001b[1;32m    310\u001b[0m     label \u001b[38;5;241m=\u001b[39m [label] \u001b[38;5;241m*\u001b[39m number_markers\n\u001b[0;32m--> 311\u001b[0m \u001b[38;5;28;01mif\u001b[39;00m \u001b[43mis_atomic\u001b[49m\u001b[43m(\u001b[49m\u001b[43minfo_box_content\u001b[49m\u001b[43m)\u001b[49m:\n\u001b[1;32m    312\u001b[0m     info_box_content \u001b[38;5;241m=\u001b[39m [info_box_content] \u001b[38;5;241m*\u001b[39m number_markers\n\u001b[1;32m    314\u001b[0m marker_options \u001b[38;5;241m=\u001b[39m {\n\u001b[1;32m    315\u001b[0m     \u001b[38;5;124m'\u001b[39m\u001b[38;5;124mlocation\u001b[39m\u001b[38;5;124m'\u001b[39m: locations_to_list(locations),\n\u001b[1;32m    316\u001b[0m     \u001b[38;5;124m'\u001b[39m\u001b[38;5;124mhover_text\u001b[39m\u001b[38;5;124m'\u001b[39m: hover_text,\n\u001b[1;32m    317\u001b[0m     \u001b[38;5;124m'\u001b[39m\u001b[38;5;124mlabel\u001b[39m\u001b[38;5;124m'\u001b[39m: label\n\u001b[1;32m    318\u001b[0m }\n",
      "File \u001b[0;32m~/opt/anaconda3/envs/PythonData/lib/python3.10/site-packages/gmaps/options.py:40\u001b[0m, in \u001b[0;36mis_atomic\u001b[0;34m(elem)\u001b[0m\n\u001b[1;32m     34\u001b[0m \u001b[38;5;28;01mdef\u001b[39;00m \u001b[38;5;21mis_atomic\u001b[39m(elem):\n\u001b[1;32m     35\u001b[0m     \u001b[38;5;124;03m\"\"\"\u001b[39;00m\n\u001b[1;32m     36\u001b[0m \u001b[38;5;124;03m    True if an element is a single atom and false if it's a collection\u001b[39;00m\n\u001b[1;32m     37\u001b[0m \u001b[38;5;124;03m    \"\"\"\u001b[39;00m\n\u001b[1;32m     38\u001b[0m     \u001b[38;5;28;01mreturn\u001b[39;00m (\n\u001b[1;32m     39\u001b[0m         \u001b[38;5;28misinstance\u001b[39m(elem, string_types) \u001b[38;5;129;01mor\u001b[39;00m\n\u001b[0;32m---> 40\u001b[0m         \u001b[38;5;129;01mnot\u001b[39;00m \u001b[38;5;28misinstance\u001b[39m(elem, \u001b[43mcollections\u001b[49m\u001b[38;5;241;43m.\u001b[39;49m\u001b[43mIterable\u001b[49m)\n\u001b[1;32m     41\u001b[0m     )\n",
      "\u001b[0;31mAttributeError\u001b[0m: module 'collections' has no attribute 'Iterable'"
     ]
    }
   ],
   "source": [
    "# Add a heatmap of temperature for the vacation spots and a pop-up marker for each city.\n",
    "locations = hotel_df[[\"Lat\", \"Lng\"]]\n",
    "Marker=hotel_df[[\"Lat\", \"Lng\"]]\n",
    "#max_temp = hotel_df[\"Max Temp\"]\n",
    "fig = gmaps.figure(center=(30.0, 31.0), zoom_level=1.5)\n",
    "#heat_layer = gmaps.heatmap_layer(locations, weights=max_temp,dissipating=False,\n",
    "             #max_intensity=300, point_radius=4)\n",
    "marker_layer = gmaps.marker_layer(Marker)\n",
    "#fig.add_layer(heat_layer)\n",
    "fig.add_layer(marker_layer)\n",
    "\n",
    "# Call the figure to plot the data.\n",
    "fig"
   ]
  },
  {
   "cell_type": "code",
   "execution_count": null,
   "id": "cc52a0d2",
   "metadata": {},
   "outputs": [],
   "source": [
    "info_box_template = \"\"\"\n",
    "<dl>\n",
    "<dt>Hotel Name</dt><dd>{Hotel Name}</dd>\n",
    "<dt>City</dt><dd>{City}</dd>\n",
    "<dt>Country</dt><dd>{Country}</dd>\n",
    "<dt>Max Temp</dt><dd>{Max Temp} °F</dd>\n",
    "</dl>\n",
    "\"\"\""
   ]
  },
  {
   "cell_type": "code",
   "execution_count": null,
   "id": "99041846",
   "metadata": {},
   "outputs": [],
   "source": [
    "# Store the DataFrame Row.\n",
    "hotel_info = [info_box_template.format(**row) for index, row in hotel_df.iterrows()]"
   ]
  },
  {
   "cell_type": "code",
   "execution_count": null,
   "id": "1856388e",
   "metadata": {},
   "outputs": [],
   "source": [
    "# Add a heatmap of temperature for the vacation spots and a pop-up marker for each city.\n",
    "locations = hotel_df[[\"Lat\", \"Lng\"]]\n",
    "max_temp = hotel_df[\"Max Temp\"]\n",
    "fig = gmaps.figure(center=(30.0, 31.0), zoom_level=1.5)\n",
    "heat_layer = gmaps.heatmap_layer(locations, weights=max_temp,dissipating=False,\n",
    "             max_intensity=300, point_radius=4)\n",
    "marker_layer = gmaps.marker_layer(locations, info_box_content=hotel_info)\n",
    "fig.add_layer(heat_layer)\n",
    "fig.add_layer(marker_layer)\n",
    "\n",
    "# Call the figure to plot the data.\n",
    "fig"
   ]
  },
  {
   "cell_type": "code",
   "execution_count": null,
   "id": "927c20db",
   "metadata": {},
   "outputs": [],
   "source": []
  }
 ],
 "metadata": {
  "kernelspec": {
   "display_name": "PythonData",
   "language": "python",
   "name": "pythondata"
  },
  "language_info": {
   "codemirror_mode": {
    "name": "ipython",
    "version": 3
   },
   "file_extension": ".py",
   "mimetype": "text/x-python",
   "name": "python",
   "nbconvert_exporter": "python",
   "pygments_lexer": "ipython3",
   "version": "3.10.4"
  }
 },
 "nbformat": 4,
 "nbformat_minor": 5
}
